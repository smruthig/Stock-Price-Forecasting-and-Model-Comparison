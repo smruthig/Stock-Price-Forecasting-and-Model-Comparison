{
 "cells": [
  {
   "cell_type": "code",
   "execution_count": 1,
   "metadata": {},
   "outputs": [],
   "source": [
    "import pandas as pd\n",
    "import numpy as np\n",
    "from sklearn.decomposition import PCA\n",
    "from sklearn.model_selection import train_test_split\n",
    "from sklearn.preprocessing import StandardScaler,Normalizer\n",
    "from sklearn.model_selection import train_test_split, GridSearchCV\n",
    "from sklearn.pipeline import Pipeline\n",
    "from sklearn.metrics import mean_squared_error\n",
    "from sklearn.linear_model import LinearRegression, Ridge, Lasso\n",
    "from sklearn.kernel_ridge import KernelRidge\n",
    "from sklearn.svm import SVR\n",
    "from sklearn.neighbors import KNeighborsRegressor\n",
    "from sklearn.metrics.pairwise import chi2_kernel, rbf_kernel, linear_kernel, polynomial_kernel, sigmoid_kernel"
   ]
  },
  {
   "cell_type": "code",
   "execution_count": 2,
   "metadata": {},
   "outputs": [],
   "source": [
    "df_train = pd.read_csv(\"data/train.csv\")\n",
    "df_test = pd.read_csv(\"data/test.csv\")"
   ]
  },
  {
   "cell_type": "code",
   "execution_count": 3,
   "metadata": {},
   "outputs": [],
   "source": [
    "X_columns_date = ['Date', 'Open', 'High', 'Low', 'Volume']\n",
    "X_columns = ['Open', 'High', 'Low', 'Volume']\n",
    "X_values = df_train[X_columns].values\n",
    "X_values_date = df_train[X_columns_date].values\n",
    "X_test_values=df_test[X_columns].values"
   ]
  },
  {
   "cell_type": "code",
   "execution_count": 4,
   "metadata": {},
   "outputs": [],
   "source": [
    "scaler = StandardScaler()\n",
    "normalizer = Normalizer()"
   ]
  },
  {
   "cell_type": "code",
   "execution_count": 5,
   "metadata": {},
   "outputs": [],
   "source": [
    "preprocessing_pipe = Pipeline([(\"scaler\", scaler), (\"normalizer\", normalizer)])\n",
    "preprocessing_pipe.fit(X_values)\n",
    "X_transformed = preprocessing_pipe.transform(X_values)\n",
    "X_test_tranformed=preprocessing_pipe.transform(X_test_values)\n",
    "y = df_train[\"Close\"].values"
   ]
  },
  {
   "cell_type": "code",
   "execution_count": 6,
   "metadata": {},
   "outputs": [],
   "source": [
    "X_train, X_test, y_train, y_test = train_test_split(X_values, y, test_size=0.15, random_state=0)\n",
    "X_train_transformed, X_test_transformed, y_train, y_test = train_test_split(X_transformed, y, test_size=0.15, random_state=0)"
   ]
  },
  {
   "cell_type": "code",
   "execution_count": 7,
   "metadata": {},
   "outputs": [
    {
     "data": {
      "text/plain": [
       "((1275, 4), (225, 4))"
      ]
     },
     "execution_count": 7,
     "metadata": {},
     "output_type": "execute_result"
    }
   ],
   "source": [
    "X_train.shape, X_test.shape"
   ]
  },
  {
   "cell_type": "code",
   "execution_count": 8,
   "metadata": {},
   "outputs": [],
   "source": [
    "def getRidgeRegressorConfigTrained():\n",
    "    # https://scikit-learn.org/stable/modules/generated/sklearn.linear_model.Ridge.html#sklearn.linear_model.Ridge\n",
    "    model = Ridge(random_state=0, max_iter=None, alpha=1.8000000000000003, positive= False)\n",
    "    return model\n",
    "\n",
    "def getLassoRegressorConfigTrained():\n",
    "    model = Lasso(random_state=0, max_iter=10000,alpha=0.1, positive=False, precompute=False, selection=\"cyclic\",tol=0)\n",
    "    return model\n",
    "\n",
    "def getKernelRidgeRegressorConfigTrained():\n",
    "    model = KernelRidge(alpha=0.7000000000000001,degree=3, gamma=0.1, kernel=\"linear\")\n",
    "    return model\n",
    "\n",
    "def getKNeighboursRegressorConfigTrained():\n",
    "    model = KNeighborsRegressor(n_jobs=-1, p=2,algorithm=\"ball_tree\",n_neighbors=8, weights=\"uniform\")\n",
    "    return model\n"
   ]
  },
  {
   "cell_type": "code",
   "execution_count": 9,
   "metadata": {},
   "outputs": [],
   "source": [
    "functions = [name for (name, thing) in locals().items() if callable(thing)]\n",
    "model_functions = [eval(function) for function in functions if function.endswith(\"RegressorConfigTrained\")]"
   ]
  },
  {
   "cell_type": "code",
   "execution_count": 10,
   "metadata": {},
   "outputs": [
    {
     "data": {
      "text/plain": [
       "[<function __main__.getRidgeRegressorConfigTrained()>,\n",
       " <function __main__.getLassoRegressorConfigTrained()>,\n",
       " <function __main__.getKernelRidgeRegressorConfigTrained()>,\n",
       " <function __main__.getKNeighboursRegressorConfigTrained()>]"
      ]
     },
     "execution_count": 10,
     "metadata": {},
     "output_type": "execute_result"
    }
   ],
   "source": [
    "model_functions"
   ]
  },
  {
   "cell_type": "code",
   "execution_count": 11,
   "metadata": {},
   "outputs": [
    {
     "name": "stdout",
     "output_type": "stream",
     "text": [
      "Ridge(alpha=1.8000000000000003, random_state=0) 63.9885577265469\n",
      "Lasso(alpha=0.1, max_iter=10000, random_state=0, tol=0) 64.28071661565224\n",
      "KernelRidge(alpha=0.7000000000000001, gamma=0.1) 258.9722055084847\n"
     ]
    },
    {
     "name": "stderr",
     "output_type": "stream",
     "text": [
      "/home/pes1ug19cs592/.local/lib/python3.8/site-packages/sklearn/linear_model/_coordinate_descent.py:645: ConvergenceWarning: Objective did not converge. You might want to increase the number of iterations, check the scale of the features or consider increasing regularisation. Duality gap: 4.451e-03, tolerance: 0.000e+00\n",
      "  model = cd_fast.enet_coordinate_descent(\n"
     ]
    },
    {
     "name": "stdout",
     "output_type": "stream",
     "text": [
      "KNeighborsRegressor(algorithm='ball_tree', n_jobs=-1, n_neighbors=8) 38.32127632940132\n"
     ]
    }
   ],
   "source": [
    "X_transformed = preprocessing_pipe.transform(X_values)\n",
    "X_test_tranformed=preprocessing_pipe.transform(X_test_values)\n",
    "X_train2=X_transformed[:1400]\n",
    "X_test2=X_transformed[1400:]\n",
    "y = df_train[\"Close\"].values\n",
    "y_train2=y[:1400]\n",
    "y_test2=y[1400:]\n",
    "for model in model_functions:\n",
    "    model=model()\n",
    "    model.fit(X_train2,y_train2)\n",
    "    y_pred= model.predict(X_test2)\n",
    "    print(model, mean_squared_error(y_pred,y_test2)**0.5)"
   ]
  },
  {
   "cell_type": "code",
   "execution_count": 12,
   "metadata": {},
   "outputs": [
    {
     "ename": "ValueError",
     "evalue": "Length of values (225) does not match length of index (30)",
     "output_type": "error",
     "traceback": [
      "\u001b[0;31m---------------------------------------------------------------------------\u001b[0m",
      "\u001b[0;31mValueError\u001b[0m                                Traceback (most recent call last)",
      "\u001b[0;32m/tmp/ipykernel_148/1849121768.py\u001b[0m in \u001b[0;36m<module>\u001b[0;34m\u001b[0m\n\u001b[1;32m      4\u001b[0m     \u001b[0my_pred\u001b[0m\u001b[0;34m=\u001b[0m \u001b[0mmodel\u001b[0m\u001b[0;34m.\u001b[0m\u001b[0mpredict\u001b[0m\u001b[0;34m(\u001b[0m\u001b[0mX_test_transformed\u001b[0m\u001b[0;34m)\u001b[0m\u001b[0;34m\u001b[0m\u001b[0;34m\u001b[0m\u001b[0m\n\u001b[1;32m      5\u001b[0m     \u001b[0mdf_submission\u001b[0m\u001b[0;34m=\u001b[0m\u001b[0mpd\u001b[0m\u001b[0;34m.\u001b[0m\u001b[0mread_csv\u001b[0m\u001b[0;34m(\u001b[0m\u001b[0;34m\"sample_submission.csv\"\u001b[0m\u001b[0;34m)\u001b[0m\u001b[0;34m\u001b[0m\u001b[0;34m\u001b[0m\u001b[0m\n\u001b[0;32m----> 6\u001b[0;31m     \u001b[0mdf_submission\u001b[0m\u001b[0;34m[\u001b[0m\u001b[0;34m\"Close\"\u001b[0m\u001b[0;34m]\u001b[0m\u001b[0;34m=\u001b[0m\u001b[0my_pred\u001b[0m\u001b[0;34m\u001b[0m\u001b[0;34m\u001b[0m\u001b[0m\n\u001b[0m\u001b[1;32m      7\u001b[0m     \u001b[0mdf_submission\u001b[0m\u001b[0;34m.\u001b[0m\u001b[0mto_csv\u001b[0m\u001b[0;34m(\u001b[0m\u001b[0;34mf\"submission_{model}.csv\"\u001b[0m\u001b[0;34m,\u001b[0m\u001b[0mindex\u001b[0m\u001b[0;34m=\u001b[0m\u001b[0;32mFalse\u001b[0m\u001b[0;34m)\u001b[0m\u001b[0;34m\u001b[0m\u001b[0;34m\u001b[0m\u001b[0m\n",
      "\u001b[0;32m~/.local/lib/python3.8/site-packages/pandas/core/frame.py\u001b[0m in \u001b[0;36m__setitem__\u001b[0;34m(self, key, value)\u001b[0m\n\u001b[1;32m   3610\u001b[0m         \u001b[0;32melse\u001b[0m\u001b[0;34m:\u001b[0m\u001b[0;34m\u001b[0m\u001b[0;34m\u001b[0m\u001b[0m\n\u001b[1;32m   3611\u001b[0m             \u001b[0;31m# set column\u001b[0m\u001b[0;34m\u001b[0m\u001b[0;34m\u001b[0m\u001b[0;34m\u001b[0m\u001b[0m\n\u001b[0;32m-> 3612\u001b[0;31m             \u001b[0mself\u001b[0m\u001b[0;34m.\u001b[0m\u001b[0m_set_item\u001b[0m\u001b[0;34m(\u001b[0m\u001b[0mkey\u001b[0m\u001b[0;34m,\u001b[0m \u001b[0mvalue\u001b[0m\u001b[0;34m)\u001b[0m\u001b[0;34m\u001b[0m\u001b[0;34m\u001b[0m\u001b[0m\n\u001b[0m\u001b[1;32m   3613\u001b[0m \u001b[0;34m\u001b[0m\u001b[0m\n\u001b[1;32m   3614\u001b[0m     \u001b[0;32mdef\u001b[0m \u001b[0m_setitem_slice\u001b[0m\u001b[0;34m(\u001b[0m\u001b[0mself\u001b[0m\u001b[0;34m,\u001b[0m \u001b[0mkey\u001b[0m\u001b[0;34m:\u001b[0m \u001b[0mslice\u001b[0m\u001b[0;34m,\u001b[0m \u001b[0mvalue\u001b[0m\u001b[0;34m)\u001b[0m\u001b[0;34m:\u001b[0m\u001b[0;34m\u001b[0m\u001b[0;34m\u001b[0m\u001b[0m\n",
      "\u001b[0;32m~/.local/lib/python3.8/site-packages/pandas/core/frame.py\u001b[0m in \u001b[0;36m_set_item\u001b[0;34m(self, key, value)\u001b[0m\n\u001b[1;32m   3782\u001b[0m         \u001b[0mensure\u001b[0m \u001b[0mhomogeneity\u001b[0m\u001b[0;34m.\u001b[0m\u001b[0;34m\u001b[0m\u001b[0;34m\u001b[0m\u001b[0m\n\u001b[1;32m   3783\u001b[0m         \"\"\"\n\u001b[0;32m-> 3784\u001b[0;31m         \u001b[0mvalue\u001b[0m \u001b[0;34m=\u001b[0m \u001b[0mself\u001b[0m\u001b[0;34m.\u001b[0m\u001b[0m_sanitize_column\u001b[0m\u001b[0;34m(\u001b[0m\u001b[0mvalue\u001b[0m\u001b[0;34m)\u001b[0m\u001b[0;34m\u001b[0m\u001b[0;34m\u001b[0m\u001b[0m\n\u001b[0m\u001b[1;32m   3785\u001b[0m \u001b[0;34m\u001b[0m\u001b[0m\n\u001b[1;32m   3786\u001b[0m         if (\n",
      "\u001b[0;32m~/.local/lib/python3.8/site-packages/pandas/core/frame.py\u001b[0m in \u001b[0;36m_sanitize_column\u001b[0;34m(self, value)\u001b[0m\n\u001b[1;32m   4507\u001b[0m \u001b[0;34m\u001b[0m\u001b[0m\n\u001b[1;32m   4508\u001b[0m         \u001b[0;32mif\u001b[0m \u001b[0mis_list_like\u001b[0m\u001b[0;34m(\u001b[0m\u001b[0mvalue\u001b[0m\u001b[0;34m)\u001b[0m\u001b[0;34m:\u001b[0m\u001b[0;34m\u001b[0m\u001b[0;34m\u001b[0m\u001b[0m\n\u001b[0;32m-> 4509\u001b[0;31m             \u001b[0mcom\u001b[0m\u001b[0;34m.\u001b[0m\u001b[0mrequire_length_match\u001b[0m\u001b[0;34m(\u001b[0m\u001b[0mvalue\u001b[0m\u001b[0;34m,\u001b[0m \u001b[0mself\u001b[0m\u001b[0;34m.\u001b[0m\u001b[0mindex\u001b[0m\u001b[0;34m)\u001b[0m\u001b[0;34m\u001b[0m\u001b[0;34m\u001b[0m\u001b[0m\n\u001b[0m\u001b[1;32m   4510\u001b[0m         \u001b[0;32mreturn\u001b[0m \u001b[0msanitize_array\u001b[0m\u001b[0;34m(\u001b[0m\u001b[0mvalue\u001b[0m\u001b[0;34m,\u001b[0m \u001b[0mself\u001b[0m\u001b[0;34m.\u001b[0m\u001b[0mindex\u001b[0m\u001b[0;34m,\u001b[0m \u001b[0mcopy\u001b[0m\u001b[0;34m=\u001b[0m\u001b[0;32mTrue\u001b[0m\u001b[0;34m,\u001b[0m \u001b[0mallow_2d\u001b[0m\u001b[0;34m=\u001b[0m\u001b[0;32mTrue\u001b[0m\u001b[0;34m)\u001b[0m\u001b[0;34m\u001b[0m\u001b[0;34m\u001b[0m\u001b[0m\n\u001b[1;32m   4511\u001b[0m \u001b[0;34m\u001b[0m\u001b[0m\n",
      "\u001b[0;32m~/.local/lib/python3.8/site-packages/pandas/core/common.py\u001b[0m in \u001b[0;36mrequire_length_match\u001b[0;34m(data, index)\u001b[0m\n\u001b[1;32m    529\u001b[0m     \"\"\"\n\u001b[1;32m    530\u001b[0m     \u001b[0;32mif\u001b[0m \u001b[0mlen\u001b[0m\u001b[0;34m(\u001b[0m\u001b[0mdata\u001b[0m\u001b[0;34m)\u001b[0m \u001b[0;34m!=\u001b[0m \u001b[0mlen\u001b[0m\u001b[0;34m(\u001b[0m\u001b[0mindex\u001b[0m\u001b[0;34m)\u001b[0m\u001b[0;34m:\u001b[0m\u001b[0;34m\u001b[0m\u001b[0;34m\u001b[0m\u001b[0m\n\u001b[0;32m--> 531\u001b[0;31m         raise ValueError(\n\u001b[0m\u001b[1;32m    532\u001b[0m             \u001b[0;34m\"Length of values \"\u001b[0m\u001b[0;34m\u001b[0m\u001b[0;34m\u001b[0m\u001b[0m\n\u001b[1;32m    533\u001b[0m             \u001b[0;34mf\"({len(data)}) \"\u001b[0m\u001b[0;34m\u001b[0m\u001b[0;34m\u001b[0m\u001b[0m\n",
      "\u001b[0;31mValueError\u001b[0m: Length of values (225) does not match length of index (30)"
     ]
    }
   ],
   "source": [
    "for model in model_functions:\n",
    "    model=model()\n",
    "    model.fit(X_transformed,y)\n",
    "    y_pred= model.predict(X_test_transformed)\n",
    "    df_submission=pd.read_csv(\"sample_submission.csv\")\n",
    "    df_submission[\"Close\"]=y_pred\n",
    "    df_submission.to_csv(f\"submission_{model}.csv\",index=False)"
   ]
  },
  {
   "cell_type": "code",
   "execution_count": 13,
   "metadata": {},
   "outputs": [],
   "source": [
    "linear=LinearRegression()\n",
    "linear.fit(X_transformed,y)\n",
    "X_test_values=df_test[X_columns].values\n",
    "X_test_transformed=preprocessing_pipe.transform(X_test_values)\n",
    "y_pred_test=linear.predict(X_test_transformed)\n",
    "df_submission=pd.read_csv(\"sample_submission.csv\")\n",
    "df_submission[\"Close\"]=y_pred_test\n",
    "df_submission.to_csv(\"submission.csv\",index=False)"
   ]
  },
  {
   "cell_type": "code",
   "execution_count": 14,
   "metadata": {},
   "outputs": [
    {
     "name": "stderr",
     "output_type": "stream",
     "text": [
      "/home/pes1ug19cs592/.local/lib/python3.8/site-packages/sklearn/linear_model/_coordinate_descent.py:645: ConvergenceWarning: Objective did not converge. You might want to increase the number of iterations, check the scale of the features or consider increasing regularisation. Duality gap: 7.044e-02, tolerance: 0.000e+00\n",
      "  model = cd_fast.enet_coordinate_descent(\n"
     ]
    }
   ],
   "source": [
    "for model in model_functions:\n",
    "    model=model()\n",
    "    model.fit(X_transformed,y)\n",
    "    y_pred= model.predict(X_test_transformed)\n",
    "    df_submission=pd.read_csv(\"sample_submission.csv\")\n",
    "    df_submission[\"Close\"]=y_pred\n",
    "    df_submission.to_csv(f\"submission_{model}.csv\",index=False)"
   ]
  },
  {
   "cell_type": "markdown",
   "metadata": {},
   "source": [
    "Grid search code for models"
   ]
  },
  {
   "cell_type": "code",
   "execution_count": 15,
   "metadata": {},
   "outputs": [],
   "source": [
    "# https://scikit-learn.org/stable/modules/generated/sklearn.linear_model.SGDRegressor.html#sklearn.linear_model.SGDRegressor\n",
    "# https://scikit-learn.org/stable/modules/generated/sklearn.tree.DecisionTreeRegressor.html#sklearn.tree.DecisionTreeRegressor\n",
    "# https://scikit-learn.org/stable/modules/gaussian_process.html#gaussian-process-regression-gpr\n",
    "\n",
    "def getLinearRegressorConfig():\n",
    "    model = LinearRegression(n_jobs=-1)\n",
    "    parameters = {\n",
    "        \"positive\": [True, False]\n",
    "    }\n",
    "    return model, parameters\n",
    "\n",
    "def getRidgeRegressorConfig():\n",
    "    # https://scikit-learn.org/stable/modules/generated/sklearn.linear_model.Ridge.html#sklearn.linear_model.Ridge\n",
    "    model = Ridge(random_state=0, max_iter=None)\n",
    "    parameters = {\n",
    "        \"alpha\": np.arange(0.1, 3.1, 0.1),\n",
    "        \"positive\": [True, False]\n",
    "        # \"solver\": [\"svd\", \"cholesky\", ]\n",
    "    }\n",
    "    return model, parameters\n",
    "\n",
    "def getLassoRegressorConfig():\n",
    "    model = Lasso(random_state=0, max_iter=10000)\n",
    "    parameters = {\n",
    "        \"alpha\": np.arange(0.1, 3.1, 0.1),\n",
    "        \"precompute\": [\"auto\", True, False],\n",
    "        \"tol\": [1e-4, 1e-3, 1e-2, 1e-1, 0, 1e1, 1e2, 1e3],\n",
    "        \"positive\": [True, False],\n",
    "        \"selection\": [\"cyclic\", \"random\"]\n",
    "    }\n",
    "    return model, parameters\n",
    "\n",
    "def getKernelRidgeRegressorConfig():\n",
    "    model = KernelRidge()\n",
    "    parameters = {\n",
    "        \"alpha\": np.arange(0.1, 3.1, 0.1),\n",
    "        \"kernel\": [\"linear\", rbf_kernel, polynomial_kernel, sigmoid_kernel, chi2_kernel],\n",
    "        \"gamma\": np.arange(0.1, 3.1, 0.1),\n",
    "        \"degree\": [3, 4, 5]\n",
    "    }\n",
    "    return model, parameters\n",
    "\n",
    "def getSVMRegressorConfig():\n",
    "    model = SVR(max_iter=10000)\n",
    "    parameters = {\n",
    "        \"epsilon\": np.arange(0.1, 3.1, 0.1),\n",
    "        \"tol\": [1e-4, 1e-3, 1e-2, 1e-1, 0, 1e1, 1e2, 1e3],\n",
    "        \"C\": np.arange(0.1, 3.1, 0.1),\n",
    "        \"kernel\":[\"rbf\",\"poly\",\"linear\",\"sigmoid\",\"precomputed\"],\n",
    "\t\"degree\":[3,4,5]\n",
    "    }\n",
    "    return model, parameters\n",
    "\n",
    "def getKNeighboursRegressorConfig():\n",
    "    model = KNeighborsRegressor(n_jobs=-1, p=2)\n",
    "    parameters = {\n",
    "        \"n_neighbors\": [3, 4, 5, 6, 7, 8],\n",
    "        \"weights\": [\"uniform\", \"distance\"],\n",
    "        \"algorithm\": [\"ball_tree\", \"kd_tree\", \"brute\"]\n",
    "        # \"leaf_size\": [25, 30, 35, 40, 45, 50]\n",
    "    }\n",
    "    return model, parameters"
   ]
  },
  {
   "cell_type": "code",
   "execution_count": 18,
   "metadata": {},
   "outputs": [
    {
     "data": {
      "text/plain": [
       "[<function __main__.getLinearRegressorConfig()>,\n",
       " <function __main__.getRidgeRegressorConfig()>,\n",
       " <function __main__.getLassoRegressorConfig()>,\n",
       " <function __main__.getKernelRidgeRegressorConfig()>,\n",
       " <function __main__.getSVMRegressorConfig()>,\n",
       " <function __main__.getKNeighboursRegressorConfig()>]"
      ]
     },
     "execution_count": 18,
     "metadata": {},
     "output_type": "execute_result"
    }
   ],
   "source": [
    "functions = [name for (name, thing) in locals().items() if callable(thing)]\n",
    "functions\n",
    "model_functions = [eval(function) for function in functions if function.endswith(\"RegressorConfig\")]\n",
    "model_functions"
   ]
  },
  {
   "cell_type": "code",
   "execution_count": 11,
   "metadata": {},
   "outputs": [],
   "source": [
    "# for model_function in model_functions:\n",
    "#     try:\n",
    "#         model, parameters = model_function()\n",
    "#         search = GridSearchCV(model, parameters, n_jobs=-1, refit=True)\n",
    "#         search.fit(X_train, y_train)\n",
    "#         print(search.best_params_, search.best_score_)\n",
    "#     except Exception as error_message:\n",
    "#         print(f\"Error in model {model_function}: {error_message}\")"
   ]
  },
  {
   "cell_type": "code",
   "execution_count": null,
   "metadata": {},
   "outputs": [],
   "source": []
  }
 ],
 "metadata": {
  "kernelspec": {
   "display_name": "Python 3 (ipykernel)",
   "language": "python",
   "name": "python3"
  },
  "language_info": {
   "codemirror_mode": {
    "name": "ipython",
    "version": 3
   },
   "file_extension": ".py",
   "mimetype": "text/x-python",
   "name": "python",
   "nbconvert_exporter": "python",
   "pygments_lexer": "ipython3",
   "version": "3.8.10"
  }
 },
 "nbformat": 4,
 "nbformat_minor": 4
}
