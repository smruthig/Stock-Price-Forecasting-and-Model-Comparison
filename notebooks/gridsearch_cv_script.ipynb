{
 "cells": [
  {
   "cell_type": "markdown",
   "id": "a99decec",
   "metadata": {},
   "source": [
    "new script for non transformed data, gridsearch"
   ]
  },
  {
   "cell_type": "code",
   "execution_count": 1,
   "id": "47952b5e",
   "metadata": {},
   "outputs": [],
   "source": [
    "import pandas as pd\n",
    "import numpy as np\n",
    "from sklearn.decomposition import PCA\n",
    "from sklearn.model_selection import train_test_split\n",
    "from sklearn.preprocessing import StandardScaler,Normalizer\n",
    "from sklearn.model_selection import train_test_split, GridSearchCV\n",
    "from sklearn.pipeline import Pipeline\n",
    "from sklearn.metrics import mean_squared_error\n",
    "from sklearn.linear_model import LinearRegression, Ridge, Lasso\n",
    "from sklearn.kernel_ridge import KernelRidge\n",
    "from sklearn.svm import SVR\n",
    "from sklearn.neighbors import KNeighborsRegressor\n",
    "from sklearn.metrics.pairwise import chi2_kernel, rbf_kernel, linear_kernel, polynomial_kernel, sigmoid_kernel"
   ]
  },
  {
   "cell_type": "code",
   "execution_count": 2,
   "id": "a2da81b6",
   "metadata": {},
   "outputs": [],
   "source": [
    "df_train = pd.read_csv(\"../data/train.csv\")\n",
    "df_test = pd.read_csv(\"../data/test.csv\")"
   ]
  },
  {
   "cell_type": "code",
   "execution_count": 3,
   "id": "f855668d",
   "metadata": {},
   "outputs": [],
   "source": [
    "X_columns = ['Open', 'High', 'Low', 'Volume']\n",
    "X_values = df_train[X_columns].values\n",
    "X_test_values=df_test[X_columns].values\n",
    "y_values= df_train[\"Close\"].values"
   ]
  },
  {
   "cell_type": "code",
   "execution_count": 4,
   "id": "5e500094",
   "metadata": {},
   "outputs": [],
   "source": [
    "X_train, X_test, y_train, y_test = train_test_split(X_values, y_values, test_size=0.06, random_state=0)"
   ]
  },
  {
   "cell_type": "code",
   "execution_count": 5,
   "id": "00001306",
   "metadata": {},
   "outputs": [],
   "source": [
    "def getLinearRegressorConfig():\n",
    "    model = LinearRegression(n_jobs=-1)\n",
    "    parameters = {\n",
    "        \"positive\": [True, False]\n",
    "    }\n",
    "    return model, parameters\n",
    "\n",
    "def getRidgeRegressorConfig():\n",
    "    # https://scikit-learn.org/stable/modules/generated/sklearn.linear_model.Ridge.html#sklearn.linear_model.Ridge\n",
    "    model = Ridge(random_state=0, max_iter=None)\n",
    "    parameters = {\n",
    "        \"alpha\": np.arange(0.1, 3.1, 0.1),\n",
    "        \"positive\": [True, False],\n",
    "#         \"solver\": [\"svd\", \"cholesky\", ]\n",
    "    }\n",
    "    return model, parameters\n",
    "\n",
    "# def getLassoRegressorConfig():\n",
    "#     model = Lasso(random_state=0, max_iter=10000)\n",
    "#     parameters = {\n",
    "#         \"alpha\": np.arange(0.1, 3.1, 0.1),\n",
    "# #         \"precompute\": [\"auto\", True, False],\n",
    "#         \"tol\": [1e-4, 1e-3, 1e-2, 1e-1, 0, 1e1, 1e2, 1e3],\n",
    "#         \"positive\": [True, False],\n",
    "#         \"selection\": [\"cyclic\", \"random\"]\n",
    "#     }\n",
    "#     return model, parameters\n",
    "\n",
    "# def getKernelRidgeRegressorConfig():\n",
    "#     model = KernelRidge()\n",
    "#     parameters = {\n",
    "#         \"alpha\": np.arange(0.1, 3.1, 0.1),\n",
    "#         \"kernel\": [\"linear\", rbf_kernel, polynomial_kernel, sigmoid_kernel, chi2_kernel],\n",
    "#         \"gamma\": np.arange(0.1, 3.1, 0.1),\n",
    "#         \"degree\": [3, 4, 5]\n",
    "#     }\n",
    "#     return model, parameters\n",
    "\n",
    "# def getSVMRegressorConfig():\n",
    "#     model = SVR(max_iter=10000)\n",
    "#     parameters = {\n",
    "#         \"epsilon\": np.arange(0.1, 3.1, 0.1),\n",
    "#         \"tol\": [1e-4, 1e-3, 1e-2, 1e-1, 0, 1e1, 1e2, 1e3],\n",
    "#         \"C\": np.arange(0.1, 3.1, 0.1),\n",
    "#         \"kernel\":[\"rbf\",\"poly\",\"linear\",\"sigmoid\",\"precomputed\"],\n",
    "# \t\"degree\":[3,4,5]\n",
    "#     }\n",
    "#     return model, parameters\n",
    "\n",
    "# def getKNeighboursRegressorConfig():\n",
    "#     model = KNeighborsRegressor(n_jobs=-1, p=2)\n",
    "#     parameters = {\n",
    "#         \"n_neighbors\": [3, 4, 5, 6, 7, 8],\n",
    "#         \"weights\": [\"uniform\", \"distance\"],\n",
    "#         \"algorithm\": [\"ball_tree\", \"kd_tree\", \"brute\"]\n",
    "#         # \"leaf_size\": [25, 30, 35, 40, 45, 50]\n",
    "#     }\n",
    "#     return model, parameters"
   ]
  },
  {
   "cell_type": "code",
   "execution_count": 6,
   "id": "c80f09d0",
   "metadata": {},
   "outputs": [
    {
     "data": {
      "text/plain": [
       "[<function __main__.getLinearRegressorConfig()>,\n",
       " <function __main__.getRidgeRegressorConfig()>]"
      ]
     },
     "execution_count": 6,
     "metadata": {},
     "output_type": "execute_result"
    }
   ],
   "source": [
    "functions = [name for (name, thing) in locals().items() if callable(thing)]\n",
    "model_functions = [eval(function) for function in functions if function.endswith(\"RegressorConfig\")]\n",
    "model_functions"
   ]
  },
  {
   "cell_type": "code",
   "execution_count": 7,
   "id": "f2e88d65",
   "metadata": {},
   "outputs": [
    {
     "name": "stdout",
     "output_type": "stream",
     "text": [
      "{'positive': False} 0.9997907160858851\n",
      "{'alpha': 3.0000000000000004, 'positive': False} 0.9997907284712237\n"
     ]
    }
   ],
   "source": [
    "for model_function in model_functions:\n",
    "    try:\n",
    "        model, parameters = model_function()\n",
    "        search = GridSearchCV(model, parameters, n_jobs=-1, refit=True)\n",
    "        search.fit(X_train, y_train)\n",
    "        print(search.best_params_, search.best_score_)\n",
    "    except Exception as error_message:\n",
    "        print(f\"Error in model {model_function}: {error_message}\")"
   ]
  },
  {
   "cell_type": "code",
   "execution_count": 42,
   "id": "d90a08f7",
   "metadata": {},
   "outputs": [],
   "source": [
    "\n",
    "def getLinearRegressorConfigTrained():\n",
    "    model=LinearRegression(positive=False)\n",
    "    re\n",
    "def getRidgeRegressorConfigTrained():\n",
    "    # https://scikit-learn.org/stable/modules/generated/sklearn.linear_model.Ridge.html#sklearn.linear_model.Ridge\n",
    "    model = Ridge(random_state=0, max_iter=None, alpha=3.0000000000000004, positive= False,solver=\"cholesky\")\n",
    "    return model\n",
    "\n",
    "# def getLassoRegressorConfigTrained():\n",
    "#     model = Lasso(random_state=0, max_iter=10000,alpha=0.1, positive=False, selection=\"cyclic\",tol=0)\n",
    "#     return model\n",
    "\n",
    "# def getKernelRidgeRegressorConfigTrained():\n",
    "#     model = KernelRidge(alpha=0.7000000000000001,degree=3, gamma=0.1, kernel=\"linear\")\n",
    "#     return model\n",
    "\n",
    "# def getKNeighboursRegressorConfigTrained():\n",
    "#     model = KNeighborsRegressor(n_jobs=-1, p=2,algorithm=\"ball_tree\",n_neighbors=8, weights=\"uniform\")\n",
    "#     return model"
   ]
  },
  {
   "cell_type": "code",
   "execution_count": 32,
   "id": "d64731a1",
   "metadata": {},
   "outputs": [],
   "source": [
    "functions = [name for (name, thing) in locals().items() if callable(thing)]\n",
    "model_functions = [eval(function) for function in functions if function.endswith(\"RegressorConfigTrained\")]"
   ]
  },
  {
   "cell_type": "code",
   "execution_count": 33,
   "id": "fa9a6fb2",
   "metadata": {},
   "outputs": [
    {
     "data": {
      "text/plain": [
       "[<function __main__.getRidgeRegressorConfigTrained()>]"
      ]
     },
     "execution_count": 33,
     "metadata": {},
     "output_type": "execute_result"
    }
   ],
   "source": [
    "model_functions"
   ]
  },
  {
   "cell_type": "code",
   "execution_count": 34,
   "id": "b6504875",
   "metadata": {},
   "outputs": [],
   "source": [
    "for model in model_functions:\n",
    "    model=model()\n",
    "    model.fit(X_train,y_train)\n",
    "    y_pred=model.predict(X_test_values)\n",
    "    df_submission=pd.read_csv(\"../sample_submission.csv\")\n",
    "    df_submission[\"Close\"]=y_pred\n",
    "    df_submission.to_csv(f\"submission_{model}.csv\",index=False)"
   ]
  },
  {
   "cell_type": "code",
   "execution_count": null,
   "id": "0452adb1",
   "metadata": {},
   "outputs": [],
   "source": []
  }
 ],
 "metadata": {
  "kernelspec": {
   "display_name": "Python 3 (ipykernel)",
   "language": "python",
   "name": "python3"
  },
  "language_info": {
   "codemirror_mode": {
    "name": "ipython",
    "version": 3
   },
   "file_extension": ".py",
   "mimetype": "text/x-python",
   "name": "python",
   "nbconvert_exporter": "python",
   "pygments_lexer": "ipython3",
   "version": "3.8.10"
  }
 },
 "nbformat": 4,
 "nbformat_minor": 5
}
